{
  "nbformat": 4,
  "nbformat_minor": 0,
  "metadata": {
    "colab": {
      "provenance": []
    },
    "kernelspec": {
      "name": "python3",
      "display_name": "Python 3"
    },
    "language_info": {
      "name": "python"
    }
  },
  "cells": [
    {
      "cell_type": "markdown",
      "source": [
        "# ASSIGNMENT 4\n",
        "\n",
        "## THEORY QUESTIONS\n",
        "\n",
        "Ques 1. What is the difference between interpreted and compiled languages?\n",
        "- Interpreted Language: Code runs line by line. Example: Python.\n",
        "- Compiled Language: Code is converted into machine code before running. - Example: C++ or Java.\n",
        "\n",
        "Ques 2.What is exception handling in Python?\n",
        "- It is a way to handle errors in the program so it doesn’t crash.\n",
        "- Uses try, except, finally, else blocks.\n",
        "\n",
        "Ques 3.What is the purpose of the finally block in exception handling\n",
        "- The finally block always runs, whether there's an error or not.\n",
        "- Mainly used to clean up (e.g., close files or connections)\n",
        "\n",
        "Ques 4.What is logging in Python\n",
        "- Logging is used to record events that happen during program execution.\n",
        "- Helps in debugging and monitoring.\n",
        "\n",
        "Ques 5.What is the significance of the __del__ method in Python\n",
        "- This is a special method called when an object is about to be destroyed.\n",
        "- Helps in releasing resources like closing a file or database\n",
        "\n",
        "Ques 6.What is the difference between import and from ... import in Python\n",
        "- import math ➝ Use as math.sqrt(4)\n",
        "- rom math import sqrt ➝ Use as sqrt(4) directly\n",
        "\n",
        "Ques 7.How can you handle multiple exceptions in Python\n",
        "- Use multiple except blocks or use a tuple of exceptions\n",
        "\n",
        "Ques 8.What is the purpose of the with statement when handling files in Python\n",
        "- with automatically closes the file after use.\n",
        "- Makes code cleaner and safer.\n",
        "\n",
        "Ques 9.What is the difference between multithreading and multiprocessing\n",
        "- Multithreading: Multiple threads in one process (shares memory).\n",
        "- Multiprocessing: Multiple processes (separate memory)\n",
        "\n",
        "Ques 10.What are the advantages of using logging in a program\n",
        "- Helps track what the program is doing.\n",
        "- Useful for debugging.\n",
        "- Records errors, warnings, and info\n",
        "\n",
        "Ques 11.What is memory management in Python\n",
        "- It is how Python allocates and frees memory.\n",
        "- Uses a technique called Garbage Collection to remove unused object\n",
        "\n",
        "Ques 12.What are the basic steps involved in exception handling in Python\n",
        "- Use try to write risky code.\n",
        "- Use except to handle errors.\n",
        "- Use finally for cleanup.\n",
        "- Optionally use else to run if no exception occurs.\n",
        "\n",
        "Ques 13.Why is memory management important in Python\n",
        "- It prevents memory leaks.\n",
        "- Helps your program run efficiently.\n",
        "- Ensures that unused memory is released properly\n",
        "\n",
        "Ques 14.What is the role of try and except in exception handling\n",
        "- try: Write code that might cause error.\n",
        "- except: Handle the error so the program doesn’t crash.\n",
        "\n",
        "Ques 15.How does Python's garbage collection system work\n",
        "- Automatically deletes unused objects.\n",
        "- Uses a reference count and generational garbage collection system\n",
        "\n",
        "Ques 16.What is the purpose of the else block in exception handling\n",
        "- else runs if the code in try does not raise an exception.\n",
        "- Helps keep code clean and separate.\n",
        "\n",
        "Ques 17.What are the common logging levels in Python\n",
        "- DEBUG: Detailed info\n",
        "- INFO: General messages\n",
        "- WARNING: Something wrong, but not a crash\n",
        "- ERROR: Major problem\n",
        "- CRITICAL: Very serious error\n",
        "\n",
        "Ques 18.What is the difference between os.fork() and multiprocessing in Python\n",
        "- os.fork(): Used in Unix/Linux; low-level process creation.\n",
        "- multiprocessing: High-level module for creating processes; cross-platform\n",
        "\n",
        "Ques 19.What is the importance of closing a file in Python\n",
        "- Frees up system resources.\n",
        "- Saves changes made to the file.\n",
        "- Prevents data corruption\n",
        "\n",
        "Ques 20.What is the difference between file.read() and file.readline() in Python\n",
        "- read(): Reads the entire file at once.\n",
        "- readline(): Reads one line at a time.\n",
        "\n",
        "Ques 21.What is the logging module in Python used for\n",
        "- Used to create log messages.\n",
        "- You can control the level, format, and where to store logs (console/file)\n",
        "\n",
        "Ques 22.What is the os module in Python used for in file handling\n",
        "- Helps in working with files and directories.\n",
        "- Example tasks: check if file exists, create/delete folders, get path info\n",
        "\n",
        "Ques 23.What are the challenges associated with memory management in Python\n",
        "- Handling circular references.\n",
        "- Large objects staying in memory.\n",
        "- Manual tuning needed in large applications\n",
        "\n",
        "Ques 24.How do you raise an exception manually in Python\n",
        "- raise ValueError(\"This is a manual error\")\n",
        "\n",
        "Ques 25.Why is it important to use multithreading in certain applications\n",
        "- Improves speed in tasks like downloading files or handling multiple users.\n",
        "- Best for I/O-bound tasks (like network, file I/O)\n",
        "\n",
        "\n"
      ],
      "metadata": {
        "id": "YBT-AZbAoJ0k"
      }
    },
    {
      "cell_type": "markdown",
      "source": [
        "## PRACTICAL QUESTION"
      ],
      "metadata": {
        "id": "xkmxs2nUpFJz"
      }
    },
    {
      "cell_type": "code",
      "source": [
        "#Ques 1.How can you open a file for writing in Python and write a string to it\n",
        "# Open a file in write mode and write a string\n",
        "with open(\"example.txt\", \"w\") as file:\n",
        "    file.write(\"Hello, this is a simple file.\")"
      ],
      "metadata": {
        "id": "3IwVJor8pEAo"
      },
      "execution_count": 2,
      "outputs": []
    },
    {
      "cell_type": "code",
      "source": [
        "#Ques 2.Write a Python program to read the contents of a file and print each line\n",
        "# Open and read file line by line\n",
        "with open(\"example.txt\", \"r\") as file:\n",
        "    for line in file:\n",
        "        print(line)\n"
      ],
      "metadata": {
        "colab": {
          "base_uri": "https://localhost:8080/"
        },
        "id": "GhrZiJ5npMrO",
        "outputId": "1a05cbd7-5759-4fa9-9290-a2d6f1a9956a"
      },
      "execution_count": 3,
      "outputs": [
        {
          "output_type": "stream",
          "name": "stdout",
          "text": [
            "Hello, this is a simple file.\n"
          ]
        }
      ]
    },
    {
      "cell_type": "code",
      "source": [
        "#Ques 3.How would you handle a case where the file doesn't exist while trying to open it for reading\n",
        "try:\n",
        "    with open(\"nofile.txt\", \"r\") as file:\n",
        "        print(file.read())\n",
        "except FileNotFoundError:\n",
        "    print(\"File not found!\")\n"
      ],
      "metadata": {
        "colab": {
          "base_uri": "https://localhost:8080/"
        },
        "id": "gSu1nPtjpQM6",
        "outputId": "b159ae29-1e96-4512-9c7f-f1d6293b914e"
      },
      "execution_count": 4,
      "outputs": [
        {
          "output_type": "stream",
          "name": "stdout",
          "text": [
            "File not found!\n"
          ]
        }
      ]
    },
    {
      "cell_type": "code",
      "source": [
        "#Ques 4.Write a Python script that reads from one file and writes its content to another file\n",
        "with open(\"source.txt\", \"w\") as src:\n",
        "    src.write(\"Copied content\")\n",
        "\n",
        "with open(\"source.txt\", \"r\") as src:\n",
        "    content = src.read()\n",
        "\n",
        "with open(\"destination.txt\", \"w\") as dest:\n",
        "    dest.write(content)"
      ],
      "metadata": {
        "id": "YI2hsHC4pQBN"
      },
      "execution_count": 8,
      "outputs": []
    },
    {
      "cell_type": "code",
      "source": [
        "#Ques 5.How would you catch and handle division by zero error in Python\n",
        "try:\n",
        "    a = 5 / 0\n",
        "except ZeroDivisionError:\n",
        "    print(\"You can't divide by zero!\")\n"
      ],
      "metadata": {
        "colab": {
          "base_uri": "https://localhost:8080/"
        },
        "id": "-UxkhSvMpP49",
        "outputId": "1422eac5-3f41-437c-b75c-0e08c0b4a7de"
      },
      "execution_count": 9,
      "outputs": [
        {
          "output_type": "stream",
          "name": "stdout",
          "text": [
            "You can't divide by zero!\n"
          ]
        }
      ]
    },
    {
      "cell_type": "code",
      "source": [
        "#Ques 6.Write a Python program that logs an error message to a log file when a division by zero exception occurs\n",
        "import logging\n",
        "\n",
        "logging.basicConfig(filename=\"error.log\", level=logging.ERROR)\n",
        "\n",
        "try:\n",
        "    x = 10 / 0\n",
        "except ZeroDivisionError:\n",
        "    logging.error(\"Division by zero error occurred.\")\n"
      ],
      "metadata": {
        "colab": {
          "base_uri": "https://localhost:8080/"
        },
        "id": "ibzIRo9ipPpu",
        "outputId": "69ed1cf4-b510-4f20-ecd0-537a7d5d7db4"
      },
      "execution_count": 10,
      "outputs": [
        {
          "output_type": "stream",
          "name": "stderr",
          "text": [
            "ERROR:root:Division by zero error occurred.\n"
          ]
        }
      ]
    },
    {
      "cell_type": "code",
      "source": [
        "#Ques 7.How do you log information at different levels (INFO, ERROR, WARNING) in Python using the logging module\n",
        "import logging\n",
        "\n",
        "logging.basicConfig(level=logging.DEBUG)\n",
        "\n",
        "logging.info(\"This is an info message\")\n",
        "logging.warning(\"This is a warning message\")\n",
        "logging.error(\"This is an error message\")\n"
      ],
      "metadata": {
        "colab": {
          "base_uri": "https://localhost:8080/"
        },
        "id": "FzNtNj-wpPic",
        "outputId": "01541a47-c8b1-4460-dcef-d0ab4ebf5867"
      },
      "execution_count": 11,
      "outputs": [
        {
          "output_type": "stream",
          "name": "stderr",
          "text": [
            "WARNING:root:This is a warning message\n",
            "ERROR:root:This is an error message\n"
          ]
        }
      ]
    },
    {
      "cell_type": "code",
      "source": [
        "#Ques 8.Write a program to handle a file opening error using exception handling\n",
        "try:\n",
        "    file = open(\"missing.txt\", \"r\")\n",
        "except FileNotFoundError:\n",
        "    print(\"File not found!\")\n"
      ],
      "metadata": {
        "colab": {
          "base_uri": "https://localhost:8080/"
        },
        "id": "iLDqoQqqpPbc",
        "outputId": "5dc49f5c-444c-4819-c1f9-00bd6616c5fd"
      },
      "execution_count": 12,
      "outputs": [
        {
          "output_type": "stream",
          "name": "stdout",
          "text": [
            "File not found!\n"
          ]
        }
      ]
    },
    {
      "cell_type": "code",
      "source": [
        "#Ques 9.How can you read a file line by line and store its content in a list in Python\n",
        "with open(\"example.txt\", \"r\") as file:\n",
        "    lines = file.readlines()\n",
        "\n",
        "print(lines)\n"
      ],
      "metadata": {
        "colab": {
          "base_uri": "https://localhost:8080/"
        },
        "id": "LCxJSvYspPTR",
        "outputId": "ab7ead7a-a11d-434e-8977-4363cca55bff"
      },
      "execution_count": 13,
      "outputs": [
        {
          "output_type": "stream",
          "name": "stdout",
          "text": [
            "['Hello, this is a simple file.']\n"
          ]
        }
      ]
    },
    {
      "cell_type": "code",
      "source": [
        "#Ques 10.How can you append data to an existing file in Python\n",
        "with open(\"example.txt\", \"a\") as file:\n",
        "    file.write(\"\\nAppended line\")\n"
      ],
      "metadata": {
        "id": "20W_2xVwpPLD"
      },
      "execution_count": 16,
      "outputs": []
    },
    {
      "cell_type": "code",
      "source": [
        "#Ques 11.Write a Python program that uses a try-except block to handle an error when attempting to access a\n",
        "#dictionary key that doesn't exist\n",
        "data = {\"name\": \"Alice\"}\n",
        "\n",
        "try:\n",
        "    print(data[\"age\"])\n",
        "except KeyError:\n",
        "    print(\"Key does not exist!\")\n",
        "\n"
      ],
      "metadata": {
        "colab": {
          "base_uri": "https://localhost:8080/"
        },
        "id": "NGIxXKC1pPCM",
        "outputId": "90c2ea4e-56f1-4077-eae6-3b62ff3d0330"
      },
      "execution_count": 17,
      "outputs": [
        {
          "output_type": "stream",
          "name": "stdout",
          "text": [
            "Key does not exist!\n"
          ]
        }
      ]
    },
    {
      "cell_type": "code",
      "source": [
        "#Ques 12.Write a program that demonstrates using multiple except blocks to handle different types of exceptions\n",
        "try:\n",
        "    x = int(\"hello\")\n",
        "    y = 10 / 0\n",
        "except ValueError:\n",
        "    print(\"ValueError occurred\")\n",
        "except ZeroDivisionError:\n",
        "    print(\"ZeroDivisionError occurred\")\n"
      ],
      "metadata": {
        "colab": {
          "base_uri": "https://localhost:8080/"
        },
        "id": "78gd5vxxpO5b",
        "outputId": "7907bb6f-8a0e-4052-a773-d10f76026638"
      },
      "execution_count": 18,
      "outputs": [
        {
          "output_type": "stream",
          "name": "stdout",
          "text": [
            "ValueError occurred\n"
          ]
        }
      ]
    },
    {
      "cell_type": "code",
      "source": [
        "#Ques 13.How would you check if a file exists before attempting to read it in Python\n",
        "import os\n",
        "\n",
        "if os.path.exists(\"example.txt\"):\n",
        "    with open(\"example.txt\", \"r\") as file:\n",
        "        print(file.read())\n",
        "else:\n",
        "    print(\"File does not exist\")\n"
      ],
      "metadata": {
        "colab": {
          "base_uri": "https://localhost:8080/"
        },
        "id": "1gDlzuAnpOwO",
        "outputId": "e993e294-2e8b-4dd2-897c-84fc0a42710d"
      },
      "execution_count": 19,
      "outputs": [
        {
          "output_type": "stream",
          "name": "stdout",
          "text": [
            "Hello, this is a simple file.\n",
            "Adding new line to file.\n",
            "Adding new line to file.\n",
            "Appended line\n"
          ]
        }
      ]
    },
    {
      "cell_type": "code",
      "source": [
        "#Ques 14.Write a program that uses the logging module to log both informational and error messages\n",
        "import logging\n",
        "\n",
        "logging.basicConfig(filename=\"logfile.log\", level=logging.DEBUG)\n",
        "\n",
        "logging.info(\"Program started\")\n",
        "try:\n",
        "    1 / 0\n",
        "except ZeroDivisionError:\n",
        "    logging.error(\"Tried dividing by zero\")\n"
      ],
      "metadata": {
        "colab": {
          "base_uri": "https://localhost:8080/"
        },
        "id": "0KjdFyjgpOo9",
        "outputId": "0051a0ca-8456-4250-8824-53749cd820c2"
      },
      "execution_count": 20,
      "outputs": [
        {
          "output_type": "stream",
          "name": "stderr",
          "text": [
            "ERROR:root:Tried dividing by zero\n"
          ]
        }
      ]
    },
    {
      "cell_type": "code",
      "source": [
        "#Ques 15.Write a Python program that prints the content of a file and handles the case when the file is emptyF\n",
        "with open(\"example.txt\", \"r\") as file:\n",
        "    content = file.read()\n",
        "    if content == \"\":\n",
        "        print(\"File is empty\")\n",
        "    else:\n",
        "        print(content)\n"
      ],
      "metadata": {
        "colab": {
          "base_uri": "https://localhost:8080/"
        },
        "id": "_mrXUwjlpOhL",
        "outputId": "f6f00c72-48f2-4c8e-bc72-7ecdfb25dfbb"
      },
      "execution_count": 21,
      "outputs": [
        {
          "output_type": "stream",
          "name": "stdout",
          "text": [
            "Hello, this is a simple file.\n",
            "Adding new line to file.\n",
            "Adding new line to file.\n",
            "Appended line\n"
          ]
        }
      ]
    },
    {
      "cell_type": "code",
      "source": [
        "#Ques 17.Write a Python program to create and write a list of numbers to a file, one number per line\n",
        "numbers = [1, 2, 3, 4, 5]\n",
        "\n",
        "with open(\"numbers.txt\", \"w\") as file:\n",
        "    for num in numbers:\n",
        "        file.write(str(num) + \"\\n\")\n"
      ],
      "metadata": {
        "id": "gipyZVHdpORU"
      },
      "execution_count": 27,
      "outputs": []
    },
    {
      "cell_type": "code",
      "source": [
        "#Ques 18.How would you implement a basic logging setup that logs to a file with rotation after 1MB\n",
        "import logging\n",
        "from logging.handlers import RotatingFileHandler\n",
        "\n",
        "handler = RotatingFileHandler(\"rotate_log.log\", maxBytes=1000000, backupCount=3)\n",
        "logging.basicConfig(handlers=[handler], level=logging.INFO)\n",
        "\n",
        "logging.info(\"This is a rotating log message\")\n"
      ],
      "metadata": {
        "id": "eqiv357hpOKI"
      },
      "execution_count": 28,
      "outputs": []
    },
    {
      "cell_type": "code",
      "source": [
        "#Ques 19.Write a program that handles both IndexError and KeyError using a try-except block\n",
        "data = {\"name\": \"Tom\"}\n",
        "list_data = [1, 2, 3]\n",
        "\n",
        "try:\n",
        "    print(data[\"age\"])\n",
        "    print(list_data[5])\n",
        "except KeyError:\n",
        "    print(\"KeyError handled\")\n",
        "except IndexError:\n",
        "    print(\"IndexError handled\")\n"
      ],
      "metadata": {
        "colab": {
          "base_uri": "https://localhost:8080/"
        },
        "id": "OHH4_63ApOCg",
        "outputId": "10ce7462-5375-4a34-e634-4510fbcf576c"
      },
      "execution_count": 29,
      "outputs": [
        {
          "output_type": "stream",
          "name": "stdout",
          "text": [
            "KeyError handled\n"
          ]
        }
      ]
    },
    {
      "cell_type": "code",
      "source": [
        "#Ques 20.How would you open a file and read its contents using a context manager in Python\n",
        "with open(\"example.txt\", \"r\") as file:\n",
        "    print(file.read())\n"
      ],
      "metadata": {
        "colab": {
          "base_uri": "https://localhost:8080/"
        },
        "id": "cQoT2XHgpN7A",
        "outputId": "741ff706-cffc-425a-ec96-7aa564eb22f1"
      },
      "execution_count": 30,
      "outputs": [
        {
          "output_type": "stream",
          "name": "stdout",
          "text": [
            "Hello, this is a simple file.\n",
            "Adding new line to file.\n",
            "Adding new line to file.\n",
            "Appended line\n"
          ]
        }
      ]
    },
    {
      "cell_type": "code",
      "source": [
        "#Ques 21.Write a Python program that reads a file and prints the number of occurrences of a specific word\n",
        "word = \"hello\"\n",
        "count = 0\n",
        "\n",
        "with open(\"example.txt\", \"r\") as file:\n",
        "    for line in file:\n",
        "        count += line.lower().count(word)\n",
        "\n",
        "print(f\"'{word}' appears {count} times.\")\n"
      ],
      "metadata": {
        "colab": {
          "base_uri": "https://localhost:8080/"
        },
        "id": "h1aicalIpNzI",
        "outputId": "7b2ba401-9167-43f4-b21a-791e7c6998e4"
      },
      "execution_count": 31,
      "outputs": [
        {
          "output_type": "stream",
          "name": "stdout",
          "text": [
            "'hello' appears 1 times.\n"
          ]
        }
      ]
    },
    {
      "cell_type": "code",
      "source": [
        "#Ques 22.How can you check if a file is empty before attempting to read its contents\n",
        "import os\n",
        "\n",
        "if os.path.getsize(\"example.txt\") == 0:\n",
        "    print(\"File is empty\")\n",
        "else:\n",
        "    with open(\"example.txt\", \"r\") as file:\n",
        "        print(file.read())\n"
      ],
      "metadata": {
        "colab": {
          "base_uri": "https://localhost:8080/"
        },
        "id": "SHzIvHD6pNrX",
        "outputId": "44ab6723-7a2e-4002-ddcb-ca9b9a97fbde"
      },
      "execution_count": 32,
      "outputs": [
        {
          "output_type": "stream",
          "name": "stdout",
          "text": [
            "Hello, this is a simple file.\n",
            "Adding new line to file.\n",
            "Adding new line to file.\n",
            "Appended line\n"
          ]
        }
      ]
    },
    {
      "cell_type": "code",
      "source": [
        "#Ques 23.Write a Python program that writes to a log file when an error occurs during file handling\n",
        "import logging\n",
        "\n",
        "logging.basicConfig(filename=\"file_error.log\", level=logging.ERROR)\n",
        "\n",
        "try:\n",
        "    with open(\"missingfile.txt\", \"r\") as file:\n",
        "        print(file.read())\n",
        "except FileNotFoundError:\n",
        "    logging.error(\"Tried to open a file that doesn't exist\")\n"
      ],
      "metadata": {
        "colab": {
          "base_uri": "https://localhost:8080/"
        },
        "id": "mOOjHUIwpNiQ",
        "outputId": "aae2d9f0-6cd9-4fd2-b7ad-9835d55a69c0"
      },
      "execution_count": 33,
      "outputs": [
        {
          "output_type": "stream",
          "name": "stderr",
          "text": [
            "ERROR:root:Tried to open a file that doesn't exist\n"
          ]
        }
      ]
    }
  ]
}